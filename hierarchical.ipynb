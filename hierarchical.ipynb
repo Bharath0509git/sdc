import numpy as np
import matplotlib.pyplot as plt
from sklearn.datasets import make_blobs
from scipy.cluster.hierarchy import dendrogram, linkage, fcluster
from sklearn.cluster import KMeans

# Step 1: Get User Input
n_samples = int(input("Enter the number of data points: "))
n_features = int(input("Enter the number of features (e.g., 2 for 2D visualization): "))
n_clusters = int(input("Enter the number of main clusters: "))
granule_size = int(input("Enter granule size (number of points per granule): "))

# Validate Inputs
if n_samples <= 0 or n_features <= 0 or n_clusters <= 0 or granule_size <= 0:
    raise ValueError("All input values must be positive integers.")

if granule_size > n_samples:
    print(f"Granule size ({granule_size}) is larger than number of samples ({n_samples}). Setting granule_size = n_samples.")
    granule_size = n_samples

# Step 2: Generate Synthetic Data
X, _ = make_blobs(n_samples=n_samples, centers=n_clusters, n_features=n_features, cluster_std=1.2, random_state=42)

# Step 3: Apply Granular Clustering
granule_clusters = max(1, n_samples // granule_size)  # Ensure at least one cluster
granule_kmeans = KMeans(n_clusters=granule_clusters, random_state=42)
granule_labels = granule_kmeans.fit_predict(X)

# Step 4: Perform Hierarchical Clustering on Granules
Z = linkage(granule_kmeans.cluster_centers_, method='ward')

# Step 5: Cut the dendrogram at desired clusters
final_labels = fcluster(Z, t=n_clusters, criterion='maxclust')

# Step 6: Assign final labels to original data
granule_centers = granule_kmeans.cluster_centers_
cluster_assignments = {i: final_labels[i] for i in range(len(granule_centers))}
final_data_labels = np.array([cluster_assignments[label] for label in granule_labels])

# Step 7: Plot Dendrogram
plt.figure(figsize=(10, 5))
dendrogram(Z)
plt.title("Hierarchical Clustering Dendrogram (Granule-Based)")
plt.xlabel("Granules")
plt.ylabel("Distance")
plt.show()

# Step 8: Plot Final Clusters (only if n_features=2 for visualization)
if n_features == 2:
    plt.figure(figsize=(8, 6))
    plt.scatter(X[:, 0], X[:, 1], c=final_data_labels, cmap='viridis', s=30, alpha=0.7)
    plt.scatter(granule_centers[:, 0], granule_centers[:, 1], c='red', marker='X', s=100, label="Granule Centers")
    plt.title("Granule-Based Hierarchical Clustering")
    plt.legend()
    plt.show()
else:
    print("Visualization is only available for 2D data.")
