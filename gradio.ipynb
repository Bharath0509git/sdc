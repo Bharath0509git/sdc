!pip install gradio

import numpy as np
import matplotlib.pyplot as plt
import gradio as gr
from sklearn.cluster import KMeans
from sklearn.datasets import make_blobs

# Step 1: Generate synthetic dataset
X, _ = make_blobs(n_samples=300, centers=5, random_state=42, cluster_std=1.0)

# Step 2: Granular Computing - Split into granules (subsets)
def create_granules(data, granule_size=50):
    np.random.shuffle(data)  # Shuffle data for randomness
    granules = [data[i:i + granule_size] for i in range(0, len(data), granule_size)]
    return granules

granules = create_granules(X, granule_size=50)

# Step 3: Apply K-Means on each granule and store centroids
def granular_kmeans(n_clusters):
    all_centroids = []
    for granule in granules:
        if len(granule) > 1:
            kmeans = KMeans(n_clusters=2, random_state=42, n_init=10)
            kmeans.fit(granule)
            all_centroids.extend(kmeans.cluster_centers_)

    all_centroids = np.array(all_centroids)

    # Step 4: Apply final K-Means on collected centroids
    final_kmeans = KMeans(n_clusters=n_clusters, random_state=42, n_init=10)
    final_kmeans.fit(all_centroids)

    # Step 5: Visualization
    plt.figure(figsize=(6, 6))
    plt.scatter(X[:, 0], X[:, 1], c='gray', label='Data Points', alpha=0.5)
    plt.scatter(all_centroids[:, 0], all_centroids[:, 1], c='blue', marker='x', label='Granular Centroids')
    plt.scatter(final_kmeans.cluster_centers_[:, 0], final_kmeans.cluster_centers_[:, 1], c='red', marker='o', s=150, label='Final Clusters')
    plt.legend()
    plt.title(f"Granular K-Means Clustering ({n_clusters} Clusters)")

    # Save figure for Gradio
    plt.savefig("clustering.png")
    return "clustering.png"

# Step 6: Gradio Interface
interface = gr.Interface(
    fn=granular_kmeans,
    inputs=gr.Slider(2, 10, step=1, value=5, label="Number of Final Clusters"),  # Fixed line
    outputs=gr.Image(type="filepath"),
    title="Granular K-Means Clustering",
    description="Adjust the slider to change the number of final clusters. Uses Granular Computing before applying K-Means."
)

interface.launch(share=True)
